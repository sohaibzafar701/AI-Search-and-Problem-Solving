{
  "nbformat": 4,
  "nbformat_minor": 0,
  "metadata": {
    "colab": {
      "provenance": []
    },
    "kernelspec": {
      "name": "python3",
      "display_name": "Python 3"
    },
    "language_info": {
      "name": "python"
    }
  },
  "cells": [
    {
      "cell_type": "code",
      "execution_count": 45,
      "metadata": {
        "colab": {
          "base_uri": "https://localhost:8080/",
          "height": 339
        },
        "id": "es6QUyBDdMdn",
        "outputId": "e25fcbf9-aefe-4743-b124-f32cb6e63e57"
      },
      "outputs": [
        {
          "output_type": "stream",
          "name": "stdout",
          "text": [
            "Data 0:\n"
          ]
        },
        {
          "output_type": "error",
          "ename": "ValueError",
          "evalue": "invalid literal for int() with base 10: '107.516'",
          "traceback": [
            "\u001b[0;31m---------------------------------------------------------------------------\u001b[0m",
            "\u001b[0;31mValueError\u001b[0m                                Traceback (most recent call last)",
            "\u001b[0;32m<ipython-input-45-018e21207894>\u001b[0m in \u001b[0;36m<cell line: 83>\u001b[0;34m()\u001b[0m\n\u001b[1;32m     82\u001b[0m \u001b[0;34m\u001b[0m\u001b[0m\n\u001b[1;32m     83\u001b[0m \u001b[0;32mif\u001b[0m \u001b[0m__name__\u001b[0m \u001b[0;34m==\u001b[0m \u001b[0;34m\"__main__\"\u001b[0m\u001b[0;34m:\u001b[0m\u001b[0;34m\u001b[0m\u001b[0;34m\u001b[0m\u001b[0m\n\u001b[0;32m---> 84\u001b[0;31m     \u001b[0mmain\u001b[0m\u001b[0;34m(\u001b[0m\u001b[0;34m)\u001b[0m\u001b[0;34m\u001b[0m\u001b[0;34m\u001b[0m\u001b[0m\n\u001b[0m",
            "\u001b[0;32m<ipython-input-45-018e21207894>\u001b[0m in \u001b[0;36mmain\u001b[0;34m()\u001b[0m\n\u001b[1;32m     72\u001b[0m         \u001b[0mprint\u001b[0m\u001b[0;34m(\u001b[0m\u001b[0;34mf\"Data {i}:\"\u001b[0m\u001b[0;34m)\u001b[0m\u001b[0;34m\u001b[0m\u001b[0;34m\u001b[0m\u001b[0m\n\u001b[1;32m     73\u001b[0m \u001b[0;34m\u001b[0m\u001b[0m\n\u001b[0;32m---> 74\u001b[0;31m         \u001b[0mgraph\u001b[0m \u001b[0;34m=\u001b[0m \u001b[0mparse_data\u001b[0m\u001b[0;34m(\u001b[0m\u001b[0mfilename\u001b[0m\u001b[0;34m)\u001b[0m\u001b[0;34m\u001b[0m\u001b[0;34m\u001b[0m\u001b[0m\n\u001b[0m\u001b[1;32m     75\u001b[0m         \u001b[0mstart_vertex\u001b[0m \u001b[0;34m=\u001b[0m \u001b[0;36m1\u001b[0m  \u001b[0;31m# You can change the start vertex if needed\u001b[0m\u001b[0;34m\u001b[0m\u001b[0;34m\u001b[0m\u001b[0m\n\u001b[1;32m     76\u001b[0m \u001b[0;34m\u001b[0m\u001b[0m\n",
            "\u001b[0;32m<ipython-input-45-018e21207894>\u001b[0m in \u001b[0;36mparse_data\u001b[0;34m(filename)\u001b[0m\n\u001b[1;32m     57\u001b[0m             \u001b[0;32mif\u001b[0m \u001b[0mi\u001b[0m \u001b[0;34m%\u001b[0m \u001b[0;36m2\u001b[0m \u001b[0;34m==\u001b[0m \u001b[0;36m1\u001b[0m\u001b[0;34m:\u001b[0m  \u001b[0;31m# Odd indices contain parent sets\u001b[0m\u001b[0;34m\u001b[0m\u001b[0;34m\u001b[0m\u001b[0m\n\u001b[1;32m     58\u001b[0m                 \u001b[0mparent_set_str\u001b[0m \u001b[0;34m=\u001b[0m \u001b[0mparts\u001b[0m\u001b[0;34m[\u001b[0m\u001b[0mi\u001b[0m\u001b[0;34m]\u001b[0m\u001b[0;34m.\u001b[0m\u001b[0mstrip\u001b[0m\u001b[0;34m(\u001b[0m\u001b[0;34m'{}'\u001b[0m\u001b[0;34m)\u001b[0m\u001b[0;34m\u001b[0m\u001b[0;34m\u001b[0m\u001b[0m\n\u001b[0;32m---> 59\u001b[0;31m                 \u001b[0mparent_set\u001b[0m \u001b[0;34m=\u001b[0m \u001b[0mset\u001b[0m\u001b[0;34m(\u001b[0m\u001b[0mmap\u001b[0m\u001b[0;34m(\u001b[0m\u001b[0mint\u001b[0m\u001b[0;34m,\u001b[0m \u001b[0mparent_set_str\u001b[0m\u001b[0;34m.\u001b[0m\u001b[0msplit\u001b[0m\u001b[0;34m(\u001b[0m\u001b[0;34m','\u001b[0m\u001b[0;34m)\u001b[0m\u001b[0;34m)\u001b[0m\u001b[0;34m)\u001b[0m \u001b[0;32mif\u001b[0m \u001b[0mparent_set_str\u001b[0m \u001b[0;32melse\u001b[0m \u001b[0mset\u001b[0m\u001b[0;34m(\u001b[0m\u001b[0;34m)\u001b[0m\u001b[0;34m\u001b[0m\u001b[0;34m\u001b[0m\u001b[0m\n\u001b[0m\u001b[1;32m     60\u001b[0m             \u001b[0;32melse\u001b[0m\u001b[0;34m:\u001b[0m  \u001b[0;31m# Even indices contain costs\u001b[0m\u001b[0;34m\u001b[0m\u001b[0;34m\u001b[0m\u001b[0m\n\u001b[1;32m     61\u001b[0m                 \u001b[0mcost_str\u001b[0m \u001b[0;34m=\u001b[0m \u001b[0mparts\u001b[0m\u001b[0;34m[\u001b[0m\u001b[0mi\u001b[0m\u001b[0;34m]\u001b[0m\u001b[0;34m.\u001b[0m\u001b[0mrstrip\u001b[0m\u001b[0;34m(\u001b[0m\u001b[0;34m'}'\u001b[0m\u001b[0;34m)\u001b[0m  \u001b[0;31m# Remove trailing '}' if present\u001b[0m\u001b[0;34m\u001b[0m\u001b[0;34m\u001b[0m\u001b[0m\n",
            "\u001b[0;31mValueError\u001b[0m: invalid literal for int() with base 10: '107.516'"
          ]
        }
      ],
      "source": [
        "import heapq\n",
        "\n",
        "class Graph:\n",
        "    def __init__(self):\n",
        "        self.vertices = {}\n",
        "\n",
        "    def add_vertex(self, vertex):\n",
        "        self.vertices[vertex] = {}\n",
        "\n",
        "    def add_edge(self, start, end, cost):\n",
        "        if start not in self.vertices:\n",
        "            self.add_vertex(start)\n",
        "        if end not in self.vertices:\n",
        "            self.add_vertex(end)\n",
        "        self.vertices[start][end] = cost\n",
        "\n",
        "    def get_neighbors(self, vertex):\n",
        "        if vertex in self.vertices:\n",
        "            return self.vertices[vertex]\n",
        "        else:\n",
        "            return {}\n",
        "\n",
        "def best_first_search(graph, start_vertex):\n",
        "    frontier = [(0, [start_vertex])]\n",
        "    explored = set()\n",
        "\n",
        "    while frontier:\n",
        "        current_cost, current_path = heapq.heappop(frontier)\n",
        "        current_vertex = current_path[-1]\n",
        "\n",
        "        if current_vertex not in explored:\n",
        "            explored.add(current_vertex)\n",
        "\n",
        "            if len(current_path) == len(graph.vertices):\n",
        "                return current_path\n",
        "\n",
        "            for neighbor, cost in graph.get_neighbors(current_vertex).items():\n",
        "                if neighbor not in current_path:\n",
        "                    new_cost = current_cost + cost\n",
        "                    new_path = current_path + [neighbor]\n",
        "                    heapq.heappush(frontier, (new_cost, new_path))\n",
        "\n",
        "    return None\n",
        "\n",
        "def parse_data(filename):\n",
        "    graph = Graph()\n",
        "\n",
        "    with open(filename, 'r') as file:\n",
        "        lines = file.readlines()\n",
        "\n",
        "    for line in lines:\n",
        "        parts = line.strip().split(',')\n",
        "        vertex = int(parts[0])\n",
        "        graph.add_vertex(vertex)\n",
        "\n",
        "        for i in range(1, len(parts)):\n",
        "            if i % 2 == 1:  # Odd indices contain parent sets\n",
        "                parent_set_str = parts[i].strip('{}')\n",
        "                parent_set = set(map(int, parent_set_str.split(','))) if parent_set_str else set()\n",
        "            else:  # Even indices contain costs\n",
        "                cost_str = parts[i].rstrip('}')  # Remove trailing '}' if present\n",
        "                cost = float(cost_str)  # Convert cost to float\n",
        "                for parent in parent_set:\n",
        "                    graph.add_edge(parent, vertex, cost)\n",
        "\n",
        "    return graph\n",
        "\n",
        "def main():\n",
        "    data_files = [\"data0.txt\"]\n",
        "\n",
        "    for i, filename in enumerate(data_files):\n",
        "        print(f\"Data {i}:\")\n",
        "\n",
        "        graph = parse_data(filename)\n",
        "        start_vertex = 1  # You can change the start vertex if needed\n",
        "\n",
        "        optimal_ordering = best_first_search(graph, start_vertex)\n",
        "        total_cost = sum(graph.vertices[optimal_ordering[i]][optimal_ordering[i + 1]] for i in range(len(optimal_ordering) - 1))\n",
        "\n",
        "        print(f\"Optimal Ordering: {optimal_ordering}\")\n",
        "        print(f\"Total Cost: {total_cost}\\n\")\n",
        "\n",
        "if __name__ == \"__main__\":\n",
        "    main()\n"
      ]
    }
  ]
}